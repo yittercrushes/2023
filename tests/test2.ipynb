{
 "cells": [
  {
   "cell_type": "code",
   "execution_count": 93,
   "id": "bc33b15b",
   "metadata": {},
   "outputs": [],
   "source": [
    "import pandas as pd\n",
    "import networkx as nx\n",
    "from ipycytoscape import CytoscapeWidget"
   ]
  },
  {
   "cell_type": "code",
   "execution_count": 94,
   "id": "b7188bb5",
   "metadata": {},
   "outputs": [],
   "source": [
    "url = 'https://github.com/yittercrushes/2023/blob/beee8054447b6d4c174e5a3e42bc7783371674f8/tests/test_edges2.csv?raw=true'\n",
    "df = pd.read_csv(url)"
   ]
  },
  {
   "cell_type": "code",
   "execution_count": 101,
   "id": "dd23b17e",
   "metadata": {},
   "outputs": [],
   "source": [
    "G = nx.from_pandas_edgelist(df, 'responder', 'crush', create_using = nx.DiGraph())"
   ]
  },
  {
   "cell_type": "code",
   "execution_count": 103,
   "id": "534f3a9d",
   "metadata": {},
   "outputs": [],
   "source": [
    "graph_draw = CytoscapeWidget()\n",
    "graph_draw.graph.add_graph_from_networkx(G, directed=True)"
   ]
  },
  {
   "cell_type": "code",
   "execution_count": 106,
   "id": "db3ff7fb",
   "metadata": {},
   "outputs": [],
   "source": [
    "graph_draw.set_style(\n",
    "    [\n",
    "        {\n",
    "             'selector': 'node',\n",
    "             'style': {\n",
    "                 'font-family': 'helvetica',\n",
    "                 'font-size': '20px',\n",
    "                 'label': 'data(id)',\n",
    "             }\n",
    "        },\n",
    "        {\n",
    "                \"selector\": \"edge.directed\",\n",
    "                \"style\": {\n",
    "                    \"curve-style\": \"unbundled-bezier\", #bezier\n",
    "                    \"target-arrow-shape\": \"triangle\",\n",
    "                    \"target-arrow-color\": \"#9dbaea\",\n",
    "                },\n",
    "            },\n",
    "\n",
    "\n",
    "    ]\n",
    ")"
   ]
  },
  {
   "cell_type": "code",
   "execution_count": 107,
   "id": "b03ae07c",
   "metadata": {},
   "outputs": [
    {
     "data": {
      "application/vnd.jupyter.widget-view+json": {
       "model_id": "395ec1e8dd534eb38b0a1d726482bf8e",
       "version_major": 2,
       "version_minor": 0
      },
      "text/plain": [
       "CytoscapeWidget(cytoscape_layout={'name': 'cola'}, cytoscape_style=[{'selector': 'node', 'style': {'font-famil…"
      ]
     },
     "metadata": {},
     "output_type": "display_data"
    }
   ],
   "source": [
    "graph_draw"
   ]
  },
  {
   "cell_type": "code",
   "execution_count": null,
   "id": "21c10d95",
   "metadata": {},
   "outputs": [],
   "source": []
  }
 ],
 "metadata": {
  "kernelspec": {
   "display_name": "Python 3 (ipykernel)",
   "language": "python",
   "name": "python3"
  },
  "language_info": {
   "codemirror_mode": {
    "name": "ipython",
    "version": 3
   },
   "file_extension": ".py",
   "mimetype": "text/x-python",
   "name": "python",
   "nbconvert_exporter": "python",
   "pygments_lexer": "ipython3",
   "version": "3.9.12"
  }
 },
 "nbformat": 4,
 "nbformat_minor": 5
}
